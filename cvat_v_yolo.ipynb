{
 "cells": [
  {
   "cell_type": "code",
   "execution_count": null,
   "id": "a017a729-3e42-49ca-a9ad-d6cd9de4dd49",
   "metadata": {},
   "outputs": [],
   "source": [
    "import os\n",
    "import xml.etree.ElementTree as ET\n",
    "\n",
    "# Poti do map\n",
    "xml_folder = '/mnt/data'  # Mesto kamor si naložil .xml datoteko\n",
    "images_folder = '/mnt/data/images/train'  # Slike naj bodo tu\n",
    "labels_folder = '/mnt/data/labels/train'  # YOLO oznake bomo dali sem\n",
    "\n",
    "# Poskrbi, da mapa za oznake obstaja\n",
    "os.makedirs(labels_folder, exist_ok=True)\n",
    "\n",
    "# Preslikava razredov (po potrebi prilagodi!)\n",
    "class_mapping = {\n",
    "    'oseba': 0,\n",
    "    'avto': 1,\n",
    "    'kolo': 2\n",
    "}\n",
    "\n",
    "# Funkcija za pretvorbo v YOLO\n",
    "def convert_to_yolo(xml_path, img_folder, label_folder):\n",
    "    tree = ET.parse(xml_path)\n",
    "    root = tree.getroot()\n",
    "\n",
    "    filename = root.find('filename').text\n",
    "    img_path = os.path.join(img_folder, filename)\n",
    "    label_path = os.path.join(label_folder, filename.replace('.jpg', '.txt'))\n",
    "\n",
    "    size = root.find('size')\n",
    "    w = int(size.find('width').text)\n",
    "    h = int(size.find('height').text)\n",
    "\n",
    "    with open(label_path, 'w') as f:\n",
    "        for obj in root.findall('object'):\n",
    "            cls = obj.find('name').text\n",
    "            if cls not in class_mapping:\n",
    "                continue\n",
    "            cls_id = class_mapping[cls]\n",
    "            xml_box = obj.find('bndbox')\n",
    "            xmin = int(xml_box.find('xmin').text)\n",
    "            ymin = int(xml_box.find('ymin').text)\n",
    "            xmax = int(xml_box.find('xmax').text)\n",
    "            ymax = int(xml_box.find('ymax').text)\n",
    "\n",
    "            x_center = ((xmin + xmax) / 2) / w\n",
    "            y_center = ((ymin + ymax) / 2) / h\n",
    "            width = (xmax - xmin) / w\n",
    "            height = (ymax - ymin) / h\n",
    "\n",
    "            f.write(f\"{cls_id} {x_center:.6f} {y_center:.6f} {width:.6f} {height:.6f}\\n\")\n",
    "\n",
    "# Pretvori en sam XML\n",
    "convert_to_yolo(os.path.join(xml_folder, 'oznake_20250328_091617.xml'),\n",
    "                images_folder,\n",
    "                labels_folder)\n"
   ]
  }
 ],
 "metadata": {
  "kernelspec": {
   "display_name": "Python 3 (ipykernel)",
   "language": "python",
   "name": "python3"
  },
  "language_info": {
   "codemirror_mode": {
    "name": "ipython",
    "version": 3
   },
   "file_extension": ".py",
   "mimetype": "text/x-python",
   "name": "python",
   "nbconvert_exporter": "python",
   "pygments_lexer": "ipython3",
   "version": "3.10.16"
  }
 },
 "nbformat": 4,
 "nbformat_minor": 5
}
